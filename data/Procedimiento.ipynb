{
 "cells": [
  {
   "cell_type": "markdown",
   "metadata": {},
   "source": [
    "### Meteorologia: Tiempo durante el 2021"
   ]
  },
  {
   "cell_type": "code",
   "execution_count": 1,
   "metadata": {},
   "outputs": [],
   "source": [
    "# Librerias para usar\n",
    "import pandas as pd\n",
    "import numpy as np\n",
    "import datetime as dt"
   ]
  },
  {
   "cell_type": "code",
   "execution_count": 38,
   "metadata": {},
   "outputs": [],
   "source": [
    "# Importando los CSV\n",
    "df = pd.read_csv(r'C:\\Users\\jr-sa\\Desktop\\EstacionMeteo\\Datos.csv', sep = ';')\n",
    "Pruebas_calidad = pd.read_csv(r'C:\\Users\\jr-sa\\Desktop\\EstacionMeteo\\Pruebas_calidad.csv', sep = ';')\n",
    "Punto_cardinal = pd.read_csv(r'C:\\Users\\jr-sa\\Desktop\\EstacionMeteo\\Punto_cardinal.csv', sep = ';')\n",
    "Estacion_astronomica = pd.read_csv(r'C:\\Users\\jr-sa\\Desktop\\EstacionMeteo\\Estacion_astronomica.csv', sep = ';')\n",
    "# Cambio de tipo de dato\n",
    "df.Fecha = pd.to_datetime(df.Fecha, format=\"%d/%m/%Y %H:%M\")\n",
    "df['Dia'] = pd.to_datetime(df.Fecha).dt.date\n",
    "df['Hora'] = pd.to_datetime(df.Fecha).dt.time\n",
    "Estacion_astronomica.Fecha = pd.to_datetime(Estacion_astronomica.Fecha, format=\"%d/%m/%Y %H:%M\")"
   ]
  },
  {
   "cell_type": "markdown",
   "metadata": {},
   "source": [
    "Datos diarios"
   ]
  },
  {
   "cell_type": "code",
   "execution_count": 55,
   "metadata": {},
   "outputs": [],
   "source": [
    "# Inicio de la consulta\n",
    "Consulta1 = pd.DataFrame()\n",
    "# Temperatura diaria promedio, maxima y minima\n",
    "Consulta1['Tdp'] = df.set_index('Fecha').groupby(pd.Grouper(freq='d')).Th.mean()\n",
    "Consulta1['Tdmax'] = df.groupby('Dia').Th.max()\n",
    "Consulta1['Tdmin'] = df.groupby('Dia').Th.min()\n",
    "# Precipitacion acumulada diaria\n",
    "Consulta1['Pd'] = df.groupby('Dia').Ph.sum() \n",
    "# Humedad relativa promedio diaria\n",
    "Consulta1['Hdp'] = df.groupby('Dia').Hh.mean()\n",
    "\n",
    "Consulta1 = Consulta1.reset_index()"
   ]
  },
  {
   "cell_type": "markdown",
   "metadata": {},
   "source": [
    "Pruebas "
   ]
  },
  {
   "cell_type": "code",
   "execution_count": 58,
   "metadata": {},
   "outputs": [],
   "source": [
    "# Preparando datos\n",
    "#Pruebas horarias\n",
    "\n",
    "#Prueba tipo LD\n",
    "def LD(col,min,max,col2):\n",
    " df[col2] = np.where(np.isnan(df[col]),np.nan,np.where((df[col]>= min) & (df[col]<= max),'C','M'))    \n",
    "\n",
    "#Prueba tipo LN\n",
    "def LN(col,min,max,col2):\n",
    " df[col2] = np.where(np.isnan(df[col]),np.nan,np.where((df[col]>= min) & (df[col]<= max),'C','D'))\n",
    "\n",
    "#Prueba tipo PA\n",
    "def PA(col,tiempo,rango,col2):\n",
    " a = np.where(df.Fecha.shift(tiempo) + dt.timedelta(hours=tiempo) == df.Fecha,abs(df[col].shift(tiempo) - df[col]),np.nan)\n",
    " df[col2] = np.where (np.isnan(a),np.nan,np.where(a <= rango,'C','D'))\n",
    "\n",
    "#Prueba tipo PER1\n",
    "def PER1(col,col2): \n",
    " m1 = np.where(df.Fecha.shift(1) + dt.timedelta(hours=1) == df.Fecha,df[col].shift(1),np.nan)\n",
    " m2 = np.where(df.Fecha.shift(2) + dt.timedelta(hours=2) == df.Fecha,df[col].shift(2),np.nan)\n",
    " m3 = np.where(df.Fecha.shift(3) + dt.timedelta(hours=3) == df.Fecha,df[col].shift(3),np.nan)\n",
    " o = np.where(np.isnan(df[col]),np.nan, df[col] == df[col])\n",
    " a = np.where(np.isnan(m1),np.nan, df[col] == m1)\n",
    " b = np.where(np.isnan(m2),np.nan, df[col] == m2)\n",
    " c = np.where(np.isnan(m3),np.nan, df[col] == m3)\n",
    " df[col2] = np.where((np.isnan(m3) & np.isnan(m2) & np.isnan(m1))|(np.isnan(m1) & np.isnan(m2))|(np.isnan(m3) & np.isnan(m2)),np.nan ,np.where(o+a+b+c == 4,'D','C'))\n",
    "\n",
    "#Prueba tipo PER2\n",
    "def PER2(col,col2):\n",
    " m1 = np.where(df.Fecha.shift(1) + dt.timedelta(hours=1) == df['Fecha'],df[col].shift(1),np.nan)\n",
    " m2 = np.where(df.Fecha.shift(2) + dt.timedelta(hours=2) == df['Fecha'],df[col].shift(2),np.nan)\n",
    " m3 = np.where(df.Fecha.shift(3) + dt.timedelta(hours=3) == df['Fecha'],df[col].shift(3),np.nan)\n",
    " m4 = np.where(df.Fecha.shift(4) + dt.timedelta(hours=4) == df['Fecha'],df[col].shift(4),np.nan)\n",
    " m5 = np.where(df.Fecha.shift(5) + dt.timedelta(hours=5) == df['Fecha'],df[col].shift(5),np.nan)\n",
    " p = (m1+m2+m3+m4+m5)/5\n",
    " desv = np.sqrt((((m1-p)**2) + ((m2-p)**2) + ((m3-p)**2) + ((m4-p)**2) + ((m5-p)**2))/4)\n",
    " df[col2] = np.where((np.isnan(df[col]) | np.isnan(m1) | np.isnan(m2) | np.isnan(m3) | np.isnan(m4) | np.isnan(m5)),np.nan,(np.where(((p-3*desv) <= df[col]) & (df[col] <= (p+3*desv)),'C','D')))     \n",
    "\n",
    "# Filtro de pruebas\n",
    "def TC(a,b,col2):\n",
    " for x in range(len(df)):\n",
    "  df.loc[x,col2] = np.where(any(df.iloc[x,a:b] == 'nan'),np.nan,np.where(any(df.iloc[x,a:b] == 'M'),'M',np.where(any(df.iloc[x,a:b] == 'D'),'D','C')))\n",
    "\n",
    "# Pruebas con funciones Th(8:17) HRh(17:22) PTh(22:24)\n",
    "LD('Th',-40,60,'LD_Th'), LN('Th',-32,45,'LN_Th'), PA('Th',1,4,'PA_Th1'), PA('Th',2,7,'PA_Th2'), PA('Th',3,9,'PA_Th3'), PA('Th',6,15,'PA_Th6'), PA('Th',12,25,'PA_Th12'), PER1('Th','PER1_Th'), PER2('Th','PER2_Th')\n",
    "LD('Hh',0,100,'LD_Hh'), LN('Hh',5,100,'LN_Hh'), PA('Hh',1,45,'PA_Hh'), PER1('Hh','PER1_Hh'), PER2('Hh','PER2_Hh')   \n",
    "LD('Ph',0,401,'LD_Ph'), LN('Ph',0,85,'LN_Ph')\n",
    "TC(8,17,'TC_Th'), TC(17,22,'TC_Hh'), TC(22,24,'TC_Ph')\n",
    "\n",
    "#Pruebas diarias\n",
    "Consulta1['LD_Pd'] = np.where(np.isnan(Consulta1.Pd),np.nan,np.where((Consulta1.Pd>= 0) & (Consulta1.Pd<= 508),'C','M'))\n",
    "Consulta1['LN_Pd'] = np.where(np.isnan(Consulta1.Pd),np.nan,np.where((Consulta1.Pd>= 0) & (Consulta1.Pd<= 372),'C','M'))\n",
    "for x in range(len(Consulta1)):\n",
    " Consulta1.loc[x,'TC_Pd'] = np.where(any(Consulta1.iloc[x,6:8] == 'nan'),np.nan,np.where(any(Consulta1.iloc[x,6:8] == 'M'),'M',np.where(any(Consulta1.iloc[x,6:8] == 'D'),'D','C')))    "
   ]
  },
  {
   "cell_type": "markdown",
   "metadata": {},
   "source": [
    "Direccion y Velocidad del Viento"
   ]
  },
  {
   "cell_type": "code",
   "execution_count": 11,
   "metadata": {},
   "outputs": [],
   "source": [
    "# Preparando datos\n",
    "V = df.Direccion_viento\n",
    "# Reemplazo por punto cardinal\n",
    "a = list(Punto_cardinal.Direccion_viento)\n",
    "b = list(Punto_cardinal.Direccion_viento)[1:]\n",
    "b.append(360.5)\n",
    "c = list(Punto_cardinal.Punto_cardinal)\n",
    "d = list(Punto_cardinal.index)\n",
    "for a,b,c in zip(a,b,c):   \n",
    "  V = V.replace(to_replace = np.arange(a,b,0.5), value = c)\n",
    "c = list(Punto_cardinal.Punto_cardinal) #reseteo de c  \n",
    "Orden2 = V\n",
    "for i in d:   \n",
    "  Orden2 = Orden2.replace(to_replace = c[i], value = d[i])\n",
    "#Segmentar datos de viento horario con direccion en puntos cardinales\n",
    "df2 = pd.DataFrame (df.loc[:,['Fecha','Velocidad_viento']])\n",
    "df2 = df2.assign(Tipo_cardinal=V) \n",
    "df2 = df2.assign(Orden2 = Orden2)\n",
    "df2['Dia'] = pd.to_datetime(df.Fecha).dt.date\n",
    "df2['Hora'] = pd.to_datetime(df.Fecha).dt.time"
   ]
  },
  {
   "cell_type": "markdown",
   "metadata": {},
   "source": [
    "Dias de lluvia y estacion meteorologica"
   ]
  },
  {
   "cell_type": "code",
   "execution_count": 60,
   "metadata": {},
   "outputs": [
    {
     "data": {
      "text/plain": [
       "Fecha\n",
       "2021-01-31    24\n",
       "2021-02-28    10\n",
       "2021-03-31    21\n",
       "2021-04-30    10\n",
       "2021-05-31     1\n",
       "2021-06-30     0\n",
       "2021-07-31     0\n",
       "2021-08-31     0\n",
       "2021-09-30     1\n",
       "2021-10-31     5\n",
       "2021-11-30     4\n",
       "2021-12-31     6\n",
       "Freq: M, Name: Lluvia, dtype: int64"
      ]
     },
     "execution_count": 60,
     "metadata": {},
     "output_type": "execute_result"
    }
   ],
   "source": [
    "# Preparando datos\n",
    "Consulta1['Lluvia'] = np.where(Consulta1.Pd == 'nan', np.nan, np.where(Consulta1.Pd == 0, 'no','si')) \n",
    "Estacion_astronomica['Fecha'] = Estacion_astronomica['Fecha'].round('d')\n",
    "Consulta1['Estacion'] = np.where((Consulta1['Fecha'] >= Estacion_astronomica.loc[0,'Fecha']) & (Consulta1['Fecha'] < Estacion_astronomica.loc[1,'Fecha'])|(Consulta1['Fecha'] >= (Estacion_astronomica.loc[4,'Fecha'])),'Summer',np.where((Consulta1['Fecha'] >= Estacion_astronomica.loc[1,'Fecha']) & (Consulta1['Fecha'] < Estacion_astronomica.loc[2,'Fecha']),'Autumn', np.where((Consulta1['Fecha'] >= Estacion_astronomica.loc[2,'Fecha']) & (Consulta1['Fecha'] < Estacion_astronomica.loc[3,'Fecha']),'Winter','Spring')))"
   ]
  },
  {
   "cell_type": "markdown",
   "metadata": {},
   "source": [
    "Exportar datos"
   ]
  },
  {
   "cell_type": "code",
   "execution_count": 61,
   "metadata": {},
   "outputs": [],
   "source": [
    "# Exportando datos\n",
    "df2.to_csv(r'C:\\Users\\jr-sa\\Desktop\\EstacionMeteo\\df2.csv')\n",
    "df[['Dia','Hora','Th','TC_Th']].to_csv(r'C:\\Users\\jr-sa\\Desktop\\EstacionMeteo\\dfTh.csv')\n",
    "df[['Dia','Hora','Hh','TC_Hh']].to_csv(r'C:\\Users\\jr-sa\\Desktop\\EstacionMeteo\\dfHh.csv')\n",
    "df[['Dia','Hora','Ph','TC_Ph']].to_csv(r'C:\\Users\\jr-sa\\Desktop\\EstacionMeteo\\dfPh.csv')\n",
    "Consulta1[['Fecha','Lluvia','Estacion']].to_csv(r'C:\\Users\\jr-sa\\Desktop\\EstacionMeteo\\dfLluviaEstacion.csv') "
   ]
  }
 ],
 "metadata": {
  "kernelspec": {
   "display_name": "Python 3.10.5 64-bit",
   "language": "python",
   "name": "python3"
  },
  "language_info": {
   "codemirror_mode": {
    "name": "ipython",
    "version": 3
   },
   "file_extension": ".py",
   "mimetype": "text/x-python",
   "name": "python",
   "nbconvert_exporter": "python",
   "pygments_lexer": "ipython3",
   "version": "3.10.5"
  },
  "orig_nbformat": 4,
  "vscode": {
   "interpreter": {
    "hash": "58c832704d80ca5d43237c1572174dbecf0d60cf45e0a4a08756604fccd973ed"
   }
  }
 },
 "nbformat": 4,
 "nbformat_minor": 2
}
